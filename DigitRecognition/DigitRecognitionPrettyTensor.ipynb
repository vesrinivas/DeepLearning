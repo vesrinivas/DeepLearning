{
 "cells": [
  {
   "cell_type": "code",
   "execution_count": 1,
   "metadata": {
    "collapsed": false
   },
   "outputs": [],
   "source": [
    "##--------------------------------------------------------------------------------\n",
    "## Summary : classify hand written digits using simple CNN,Pretty Tensor&use saver\n",
    "## Author  : Venkata Srinivas Vemprala\n",
    "## SourceCode : https://github.com/Hvass-Labs/TensorFlow-Tutorials\n",
    "##--------------------------------------------------------------------------------\n",
    "\n",
    "%matplotlib inline\n",
    "import tensorflow as tf\n",
    "import numpy as np\n",
    "import matplotlib.pyplot as plt\n",
    "import math\n",
    "import time\n",
    "import prettytensor as pt\n",
    "import os\n",
    "\n",
    "from sklearn.metrics import confusion_matrix"
   ]
  },
  {
   "cell_type": "code",
   "execution_count": 2,
   "metadata": {
    "collapsed": false
   },
   "outputs": [
    {
     "name": "stdout",
     "output_type": "stream",
     "text": [
      "Extracting data/MNIST/train-images-idx3-ubyte.gz\n",
      "Extracting data/MNIST/train-labels-idx1-ubyte.gz\n",
      "Extracting data/MNIST/t10k-images-idx3-ubyte.gz\n",
      "Extracting data/MNIST/t10k-labels-idx1-ubyte.gz\n"
     ]
    }
   ],
   "source": [
    "## Importing the handwritten data from tensorflow\n",
    "from tensorflow.examples.tutorials.mnist import input_data\n",
    "data = input_data.read_data_sets('data/MNIST/',one_hot=True)"
   ]
  },
  {
   "cell_type": "code",
   "execution_count": 3,
   "metadata": {
    "collapsed": true
   },
   "outputs": [],
   "source": [
    "##Declaring constants\n",
    "img_size = 28\n",
    "img_shape = (img_size,img_size)\n",
    "img_size_flat = img_size * img_size\n",
    "num_classes = 10\n",
    "batch_size = 100\n",
    "\n",
    "trueLabelsTrain = np.array([label.argmax() for label in data.train.labels])\n",
    "trueLabelsTest = np.array([label.argmax() for label in data.test.labels])\n",
    "trueLabelsValidation = np.array([label.argmax() for label in data.validation.labels])"
   ]
  },
  {
   "cell_type": "code",
   "execution_count": 4,
   "metadata": {
    "collapsed": true
   },
   "outputs": [],
   "source": [
    "## Declaring function to plot images\n",
    "def plotImages(images,trueLabels,predLabels=None):\n",
    "    assert len(images) == len(trueLabels) == 9\n",
    "    \n",
    "    #create a 3x3 subplot\n",
    "    (fig,axes) = plt.subplots(3,3)\n",
    "    fig.subplots_adjust(hspace=0.3,wspace=0.3)\n",
    "    for i,ax in enumerate(axes.flat):\n",
    "        ax.imshow(images[i].reshape(img_shape),cmap='binary')\n",
    "        \n",
    "        if predLabels==None:\n",
    "            xlabel = 'True : '+str(trueLabels[i])\n",
    "        else : \n",
    "            xlabel = 'True : '+str(trueLabels[i])+' Pred : '+str(predLabels[i])\n",
    "            \n",
    "        ax.set_xlabel(xlabel)\n",
    "        ax.set_xticks([])\n",
    "        ax.set_yticks([])"
   ]
  },
  {
   "cell_type": "code",
   "execution_count": 5,
   "metadata": {
    "collapsed": true
   },
   "outputs": [],
   "source": [
    "##lets write a function to print weights\n",
    "def printConfMatrix(trueLabels,predLabels):\n",
    "    cm = confusion_matrix(y_true=trueLabels,y_pred=predLabels)\n",
    "    print(cm)\n",
    "\n",
    "##Function to print wrong examples    \n",
    "def printExampleErrors(images,trueLabels,predLabels):\n",
    "    correct = np.equal(trueLabels,predLabels)\n",
    "    indexes = np.where(correct==False)\n",
    "    \n",
    "    incorrectImages = images[indexes]\n",
    "    incorrectTrueLabels = trueLabels[indexes]\n",
    "    incorrectPredLabels = predLabels[indexes]\n",
    "    plotImages(incorrectImages[0:9],incorrectTrueLabels[0:9],incorrectPredLabels[0:9])"
   ]
  },
  {
   "cell_type": "code",
   "execution_count": 6,
   "metadata": {
    "collapsed": true
   },
   "outputs": [],
   "source": [
    "##lets write a function to plot conv weights\n",
    "def plotConvWeights(weights,inputChannel=0):\n",
    "    ##find max and min of weights\n",
    "    w_max = np.max(weights)\n",
    "    w_min = np.min(weights)\n",
    "    \n",
    "    ##lets get number of weights to plot\n",
    "    numFilters = weights.shape[3]\n",
    "    \n",
    "    ##lets get number of images per axis\n",
    "    numGrids = math.ceil(math.sqrt(numFilters))\n",
    "    \n",
    "    (fig,axes) = plt.subplots(numGrids,numGrids)\n",
    "    fig.subplots_adjust(hspace=0.3,wspace=0.3)\n",
    "    for i,ax in enumerate(axes.flat):\n",
    "        ##Remove the axes where there are no filters\n",
    "        if i<numFilters:\n",
    "            image = weights[:,:,inputChannel,i]\n",
    "            ax.imshow(image,vmax=w_max,vmin=w_min,interpolation='nearest', cmap='seismic')\n",
    "            ax.set_xlabel('Filter : '+str(i))\n",
    "        \n",
    "            #remove ticks\n",
    "            ax.set_xticks([])\n",
    "            ax.set_yticks([])"
   ]
  },
  {
   "cell_type": "code",
   "execution_count": 7,
   "metadata": {
    "collapsed": false
   },
   "outputs": [],
   "source": [
    "##lets create the graph \n",
    "\n",
    "##Input PlaceHolders\n",
    "x = tf.placeholder(tf.float32,shape=[None,img_size_flat])\n",
    "y_true = tf.placeholder(tf.float32,shape=[None,num_classes])\n",
    "\n",
    "## We are passing the image to cnn so need to resize it \n",
    "x_image = tf.reshape(x,[-1,img_size,img_size,1])\n",
    "\n",
    "##Pretty Tensor\n",
    "x_pretty = pt.wrap(x_image)\n",
    "\n",
    "##Model declaration\n",
    "with pt.defaults_scope(activation_fn=tf.nn.relu):\n",
    "    y_pred,loss = x_pretty.conv2d(kernel=5,depth=10,name='layer1').max_pool(kernel=2,stride=2).\\\n",
    "            conv2d(kernel=5,depth=24,name='layer2').max_pool(kernel=2,stride=2).\\\n",
    "            flatten().fully_connected(size=128,name='layerfc').\\\n",
    "            softmax_classifier(num_classes=num_classes, labels=y_true)\n",
    "    \n",
    "            \n",
    "## accuracy\n",
    "correct = tf.equal(tf.argmax(y_pred,dimension=1),tf.argmax(y_true,dimension=1))\n",
    "accuracy = tf.reduce_mean(tf.cast(correct,tf.float32))\n",
    "\n",
    "##Optimization\n",
    "optimizer = tf.train.GradientDescentOptimizer(learning_rate=0.1).minimize(loss)"
   ]
  },
  {
   "cell_type": "code",
   "execution_count": 8,
   "metadata": {
    "collapsed": false
   },
   "outputs": [],
   "source": [
    "## Saver function to save best stopping. We are exploring early stopping here\n",
    "saver = tf.train.Saver()\n",
    "saveDir = 'savedState/'\n",
    "if not os.path.exists(saveDir):\n",
    "    os.makedirs(saveDir)\n",
    "savePath = os.path.join(saveDir, 'best_validation')    \n",
    "\n"
   ]
  },
  {
   "cell_type": "code",
   "execution_count": 9,
   "metadata": {
    "collapsed": true
   },
   "outputs": [],
   "source": [
    "##Lets write a function to get the weights from this pretty tensor\n",
    "\n",
    "# Retrieve an existing variable named 'weights' in the scope\n",
    "# with the given layer_name.\n",
    "def getWeights(layerName):\n",
    "    with tf.variable_scope(layerName,reuse=True):\n",
    "        variable = tf.get_variable('weights')\n",
    "        \n",
    "    return variable"
   ]
  },
  {
   "cell_type": "code",
   "execution_count": 10,
   "metadata": {
    "collapsed": true
   },
   "outputs": [],
   "source": [
    "weights1 = getWeights('layer1')\n",
    "weights2 = getWeights('layer2')"
   ]
  },
  {
   "cell_type": "code",
   "execution_count": 11,
   "metadata": {
    "collapsed": false
   },
   "outputs": [],
   "source": [
    "## lets start running the graph\n",
    "session = tf.Session()\n",
    "session.run(tf.global_variables_initializer())\n",
    "\n",
    "def runOptimization(numIter):\n",
    "    ## Initialize variables for accuracies.For early stopping we should stop at point\n",
    "    ## where the testing accuracies don't improve.\n",
    "    bestAccuracy = 0.0\n",
    "    lastImprIter = 0\n",
    "    maxIterWithOutImpr = 2\n",
    "    curIteration = 0\n",
    "    for i in range(0,numIter):\n",
    "        curIteration = curIteration+1\n",
    "        batchSize = 100\n",
    "        startTime = time.time()\n",
    "        numIterations = int(len(data.train.labels)/batchSize)\n",
    "        \n",
    "        for j in range(0,numIterations):\n",
    "            [x_batch,y_batch] = data.train.next_batch(batch_size)\n",
    "            \n",
    "            feed = {x:x_batch,y_true:y_batch}\n",
    "            session.run(optimizer,feed_dict=feed)\n",
    "            \n",
    "        labelsTrain = session.run(y_pred,feed_dict={x:data.train.images,y_true:data.train.labels})\n",
    "        labelsTest = session.run(y_pred,feed_dict={x:data.test.images,y_true:data.test.labels})\n",
    "        w1 = session.run(weights1,feed_dict={x:data.train.images,y_true:data.train.labels})\n",
    "        w2 = session.run(weights2,feed_dict={x:data.train.images,y_true:data.train.labels})\n",
    "        \n",
    "        accuracyTrain = session.run(accuracy,feed_dict={x:data.train.images,y_true:data.train.labels})\n",
    "        accuracyTest = session.run(accuracy,feed_dict={x:data.test.images,y_true:data.test.labels})\n",
    "        \n",
    "        #if accuracy improves at least 0.1%\n",
    "        if((accuracyTest-bestAccuracy)>=0.001):\n",
    "            bestAccuracy = accuracyTest\n",
    "            lastImprIter = curIteration\n",
    "            ##Save the state\n",
    "            saver.save(sess=session,save_path=savePath)\n",
    "            isImproved = '*'\n",
    "        else:\n",
    "            isImproved = ''\n",
    "        \n",
    "        print('Iteration ',str(i),':-  ','Training accuracy : ',accuracyTrain*100,'  Testing accuracy : ',accuracyTest*100,str(isImproved))\n",
    "        print('Time Taken : ',str(time.time()-startTime),'seconds')\n",
    "        \n",
    "        if(curIteration-lastImprIter>maxIterWithOutImpr):\n",
    "            print('No improvements in testing accuracy for a while. Performing \\'Early Stopping\\'')\n",
    "            break\n",
    "            \n",
    "    return labelsTrain,labelsTest,w1,w2"
   ]
  },
  {
   "cell_type": "code",
   "execution_count": 12,
   "metadata": {
    "collapsed": false
   },
   "outputs": [
    {
     "name": "stdout",
     "output_type": "stream",
     "text": [
      "Iteration  0 :-   Training accuracy :  96.025454998   Testing accuracy :  96.0699975491 *\n",
      "Time Taken :  152.473042011261 seconds\n",
      "Iteration  1 :-   Training accuracy :  98.7054526806   Testing accuracy :  98.6599981785 *\n",
      "Time Taken :  162.69602060317993 seconds\n"
     ]
    }
   ],
   "source": [
    "labelsTrain,labelsTest,w1,w2 = runOptimization(2)"
   ]
  },
  {
   "cell_type": "code",
   "execution_count": 13,
   "metadata": {
    "collapsed": false
   },
   "outputs": [
    {
     "name": "stdout",
     "output_type": "stream",
     "text": [
      "[[5372    2   17    0    1    3   31    2   11    5]\n",
      " [   0 6119   16    5    3    0    9   13   13    1]\n",
      " [   0    1 5438    8    3    1    5    7    4    3]\n",
      " [   2    0   24 5564    0   23    1    9   10    5]\n",
      " [   3   10    6    0 5207    0   19   16    6   40]\n",
      " [   1    0    3   12    0 4928   36    1    3    3]\n",
      " [   4    1    0    1    3    3 5404    0    1    0]\n",
      " [   0    7   25    5    5    0    0 5660    9    4]\n",
      " [   3   14   28   27    4   25   25    6 5241   16]\n",
      " [   6    5    4   21   12   13    2   25   11 5355]]\n"
     ]
    }
   ],
   "source": [
    "printConfMatrix(np.argmax(data.train.labels,axis=1),np.argmax(labelsTrain,axis=1))"
   ]
  },
  {
   "cell_type": "code",
   "execution_count": 14,
   "metadata": {
    "collapsed": false
   },
   "outputs": [
    {
     "name": "stderr",
     "output_type": "stream",
     "text": [
      "/home/srvv/anaconda3/lib/python3.5/site-packages/ipykernel/__main__.py:11: FutureWarning: comparison to `None` will result in an elementwise object comparison in the future.\n"
     ]
    },
    {
     "data": {
      "image/png": "[encoded data removed]",
      "text/plain": [
       "<matplotlib.figure.Figure at 0x7f22c00c56a0>"
      ]
     },
     "metadata": {},
     "output_type": "display_data"
    }
   ],
   "source": [
    "## lets print example errors\n",
    "printExampleErrors(data.train.images,np.argmax(data.train.labels,axis=1),np.argmax(labelsTrain,axis=1))"
   ]
  },
  {
   "cell_type": "code",
   "execution_count": null,
   "metadata": {
    "collapsed": false
   },
   "outputs": [
    {
     "data": {
      "image/png": "[encoded data removed]",
      "text/plain": [
       "<matplotlib.figure.Figure at 0x7f22bae647f0>"
      ]
     },
     "metadata": {},
     "output_type": "display_data"
    }
   ],
   "source": [
    "plotConvWeights(w1)"
   ]
  },
  {
   "cell_type": "code",
   "execution_count": null,
   "metadata": {
    "collapsed": false
   },
   "outputs": [],
   "source": [
    "## Now lets run some more iterations\n",
    "labelsTrain,labelsTest,w1,w2 = runOptimization(8)"
   ]
  },
  {
   "cell_type": "code",
   "execution_count": null,
   "metadata": {
    "collapsed": false
   },
   "outputs": [],
   "source": [
    "printConfMatrix(np.argmax(data.train.labels,axis=1),np.argmax(labelsTrain,axis=1))"
   ]
  },
  {
   "cell_type": "code",
   "execution_count": null,
   "metadata": {
    "collapsed": false
   },
   "outputs": [],
   "source": [
    "## lets print example errors\n",
    "printExampleErrors(data.train.images,np.argmax(data.train.labels,axis=1),np.argmax(labelsTrain,axis=1))"
   ]
  },
  {
   "cell_type": "code",
   "execution_count": null,
   "metadata": {
    "collapsed": false
   },
   "outputs": [],
   "source": [
    "plotConvWeights(w1)"
   ]
  },
  {
   "cell_type": "code",
   "execution_count": null,
   "metadata": {
    "collapsed": false
   },
   "outputs": [],
   "source": [
    "plotConvWeights(w2)"
   ]
  },
  {
   "cell_type": "code",
   "execution_count": null,
   "metadata": {
    "collapsed": true
   },
   "outputs": [],
   "source": [
    "##We can restore the session using the following command\n",
    "saver.restore(sess=session, save_path=savePath)"
   ]
  }
 ],
 "metadata": {
  "anaconda-cloud": {},
  "kernelspec": {
   "display_name": "Python [default]",
   "language": "python",
   "name": "python3"
  },
  "language_info": {
   "codemirror_mode": {
    "name": "ipython",
    "version": 3
   },
   "file_extension": ".py",
   "mimetype": "text/x-python",
   "name": "python",
   "nbconvert_exporter": "python",
   "pygments_lexer": "ipython3",
   "version": "3.5.2"
  }
 },
 "nbformat": 4,
 "nbformat_minor": 1
}
