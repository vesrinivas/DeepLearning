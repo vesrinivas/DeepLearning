{
 "cells": [
  {
   "cell_type": "code",
   "execution_count": 1,
   "metadata": {
    "collapsed": true
   },
   "outputs": [],
   "source": [
    "## In this notebook we will try to classify the images into different classes.\n",
    "## We will use the approach followed in CIFAR-10 paper.\n",
    "## First the network has a pre-processing layer which distorts the input images so as to artificially inflate the training-set. \n",
    "## Then the network has two convolutional layers, two fully-connected layers and finally a softmax classification layer."
   ]
  },
  {
   "cell_type": "code",
   "execution_count": 2,
   "metadata": {
    "collapsed": true
   },
   "outputs": [],
   "source": [
    "##--------------------------------------------------------------------------------\n",
    "## Summary : classify images into classes\n",
    "## Author  : Venkata Srinivas Vemprala\n",
    "## SourceCode : https://github.com/Hvass-Labs/TensorFlow-Tutorials\n",
    "##--------------------------------------------------------------------------------\n",
    "\n",
    "%matplotlib inline\n",
    "import tensorflow as tf\n",
    "import numpy as np\n",
    "import matplotlib.pyplot as plt\n",
    "import math\n",
    "import time\n",
    "import prettytensor as pt\n",
    "import os\n",
    "import download\n",
    "\n",
    "from sklearn.metrics import confusion_matrix"
   ]
  },
  {
   "cell_type": "code",
   "execution_count": 3,
   "metadata": {
    "collapsed": true
   },
   "outputs": [],
   "source": [
    "## Lets declare some constants we will be using \n",
    "data_path = '/home/srvv/Documents/TensorFlow/DeepLearning/ImageRecognition/CIFAR10/'\n",
    "\n",
    "img_size = 32\n",
    "numChannels = 3\n",
    "img_size_flat = img_size*img_size*numChannels\n",
    "numClasses = 10\n",
    "numExamples = 50000\n",
    "numExamplesPerFile = 10000\n",
    "\n",
    "clsNames = ['airplane', 'automobile', 'bird', 'cat', 'deer', 'dog', 'frog', 'horse', 'ship', 'truck']"
   ]
  },
  {
   "cell_type": "code",
   "execution_count": 4,
   "metadata": {
    "collapsed": true
   },
   "outputs": [],
   "source": [
    "## Lets define a function to read read the data\n",
    "def unpickle(file):\n",
    "    import pickle\n",
    "    with open(file, 'rb') as fo:\n",
    "        dict = pickle.load(fo, encoding='bytes')\n",
    "    return dict\n",
    "\n",
    "## Lets define a function to normalize images\n",
    "def normalize(rawImages):\n",
    "    # we read images and normalize them by (value/255)\n",
    "    # convert them to [-1,img_size,img_size,numChannels]\n",
    "    raw = np.array(rawImages,dtype=float)/255.0\n",
    "    images = raw.reshape([-1, numChannels, img_size, img_size])\n",
    "    \n",
    "    ##reorder images to get the right image\n",
    "    images = images.transpose([0,2,3,1])\n",
    "    return images"
   ]
  },
  {
   "cell_type": "code",
   "execution_count": 5,
   "metadata": {
    "collapsed": false
   },
   "outputs": [
    {
     "name": "stdout",
     "output_type": "stream",
     "text": [
      "['test_batch', 'batches.meta', 'data_batch_4', 'readme.html', 'data_batch_1', 'data_batch_2', 'data_batch_3', 'data_batch_5']\n",
      "['data_batch_4', 'data_batch_1', 'data_batch_2', 'data_batch_3', 'data_batch_5']\n"
     ]
    }
   ],
   "source": [
    "##lets list all files in the directory\n",
    "files = os.listdir(data_path)\n",
    "print(files)\n",
    "\n",
    "dataFiles = [file for file in files if 'data_batch' in file]\n",
    "print(dataFiles)"
   ]
  },
  {
   "cell_type": "code",
   "execution_count": 6,
   "metadata": {
    "collapsed": false
   },
   "outputs": [
    {
     "name": "stdout",
     "output_type": "stream",
     "text": [
      "(50000,)\n",
      "(50000, 32, 32, 3)\n"
     ]
    }
   ],
   "source": [
    "## Lets join data from all files into one big file\n",
    "\n",
    "images = np.zeros(shape=[numExamples,img_size,img_size,numChannels],dtype=np.float32)\n",
    "labels = np.zeros(shape=[numExamples],dtype=np.float32)\n",
    "\n",
    "for i,file in enumerate(dataFiles):\n",
    "    dict = unpickle(os.path.join(data_path,file))\n",
    "    rawImages = dict[b'data']\n",
    "    dataLabels = dict[b'labels']\n",
    "    begin = i*numExamplesPerFile\n",
    "    end = (i+1)*numExamplesPerFile\n",
    "    images[begin:end,:] = normalize(rawImages)\n",
    "    labels[begin:end] = dataLabels\n",
    "\n",
    "print(np.shape(labels))\n",
    "print(np.shape(images))"
   ]
  },
  {
   "cell_type": "code",
   "execution_count": 7,
   "metadata": {
    "collapsed": true
   },
   "outputs": [],
   "source": [
    "## Declaring function to plot images\n",
    "def plotImages(images,trueLabels,predLabels=None):\n",
    "    assert len(images) == len(trueLabels) == 9\n",
    "    \n",
    "    #create a 3x3 subplot\n",
    "    (fig,axes) = plt.subplots(3,3)\n",
    "    fig.subplots_adjust(hspace=0.6,wspace=0.6)\n",
    "    for i,ax in enumerate(axes.flat):\n",
    "        ax.imshow(images[i],interpolation='spline16')\n",
    "        \n",
    "        if predLabels==None:\n",
    "            xlabel = 'True : '+str(clsNames[int(trueLabels[i])])\n",
    "        else : \n",
    "            xlabel = 'True : '+str(clsNames[int(trueLabels[i])])+' Pred : '+str(clsNames[int(predLabels[i])])\n",
    "            \n",
    "        ax.set_xlabel(xlabel)\n",
    "        ax.set_xticks([])\n",
    "        ax.set_yticks([])"
   ]
  },
  {
   "cell_type": "code",
   "execution_count": 8,
   "metadata": {
    "collapsed": false
   },
   "outputs": [
    {
     "data": {
      "image/png": "[encoded data removed]",
      "text/plain": [
       "<matplotlib.figure.Figure at 0x7f2e444f0be0>"
      ]
     },
     "metadata": {},
     "output_type": "display_data"
    }
   ],
   "source": [
    "## lets plot some images\n",
    "plotImages(images[0:9],labels[0:9])"
   ]
  },
  {
   "cell_type": "code",
   "execution_count": 9,
   "metadata": {
    "collapsed": true
   },
   "outputs": [],
   "source": [
    "##lets write a function to print weights\n",
    "def printConfMatrix(trueLabels,predLabels):\n",
    "    cm = confusion_matrix(y_true=trueLabels,y_pred=predLabels)\n",
    "    print(cm)\n",
    "\n",
    "##Function to print wrong examples    \n",
    "def printExampleErrors(images,trueLabels,predLabels):\n",
    "    correct = np.equal(trueLabels,predLabels)\n",
    "    indexes = np.where(correct==False)\n",
    "    \n",
    "    incorrectImages = images[indexes]\n",
    "    incorrectTrueLabels = trueLabels[indexes]\n",
    "    incorrectPredLabels = predLabels[indexes]\n",
    "    plotImages(incorrectImages[0:9],incorrectTrueLabels[0:9],incorrectPredLabels[0:9])"
   ]
  },
  {
   "cell_type": "code",
   "execution_count": 10,
   "metadata": {
    "collapsed": true
   },
   "outputs": [],
   "source": [
    "##lets write a function to plot conv weights\n",
    "def plotConvWeights(weights,inputChannel=0):\n",
    "    ##find max and min of weights\n",
    "    w_max = np.max(weights)\n",
    "    w_min = np.min(weights)\n",
    "    \n",
    "    ##lets get number of weights to plot\n",
    "    numFilters = weights.shape[3]\n",
    "    \n",
    "    ##lets get number of images per axis\n",
    "    numGrids = math.ceil(math.sqrt(numFilters))\n",
    "    \n",
    "    (fig,axes) = plt.subplots(numGrids,numGrids)\n",
    "    fig.subplots_adjust(hspace=0.6,wspace=0.6)\n",
    "    for i,ax in enumerate(axes.flat):\n",
    "        ##Remove the axes where there are no filters\n",
    "        if i<numFilters:\n",
    "            image = weights[:,:,inputChannel,i]\n",
    "            ax.imshow(image,vmax=w_max,vmin=w_min,interpolation='nearest', cmap='seismic')\n",
    "            ax.set_xlabel('Filter : '+str(i))\n",
    "        \n",
    "            #remove ticks\n",
    "            ax.set_xticks([])\n",
    "            ax.set_yticks([])"
   ]
  },
  {
   "cell_type": "code",
   "execution_count": 11,
   "metadata": {
    "collapsed": true
   },
   "outputs": [],
   "source": [
    "##lets write a function to plot conv weights\n",
    "def plotConvWeights(weights,inputChannel=0):\n",
    "    ##find max and min of weights\n",
    "    w_max = np.max(weights)\n",
    "    w_min = np.min(weights)\n",
    "    \n",
    "    ##lets get number of weights to plot\n",
    "    numFilters = weights.shape[3]\n",
    "    \n",
    "    ##lets get number of images per axis\n",
    "    numGrids = math.ceil(math.sqrt(numFilters))\n",
    "    \n",
    "    (fig,axes) = plt.subplots(numGrids,numGrids)\n",
    "    fig.subplots_adjust(hspace=0.3,wspace=0.3)\n",
    "    for i,ax in enumerate(axes.flat):\n",
    "        ##Remove the axes where there are no filters\n",
    "        if i<numFilters:\n",
    "            image = weights[:,:,inputChannel,i]\n",
    "            ax.imshow(image,vmax=w_max,vmin=w_min,interpolation='nearest', cmap='seismic')\n",
    "            ax.set_xlabel('Filter : '+str(i))\n",
    "        \n",
    "            #remove ticks\n",
    "            ax.set_xticks([])\n",
    "            ax.set_yticks([])"
   ]
  },
  {
   "cell_type": "code",
   "execution_count": 12,
   "metadata": {
    "collapsed": false
   },
   "outputs": [],
   "source": [
    "##lets create the graph \n",
    "\n",
    "##Input PlaceHolders\n",
    "x = tf.placeholder(tf.float32,shape=[None,img_size_flat])\n",
    "y_true = tf.placeholder(tf.float32,shape=[None,numClasses])\n",
    "\n",
    "## We are passing the image to cnn so need to resize it \n",
    "x_image = tf.reshape(x,[-1,img_size,img_size,1])\n",
    "\n",
    "##Pretty Tensor\n",
    "x_pretty = pt.wrap(images)\n",
    "\n",
    "##Model declaration\n",
    "with pt.defaults_scope(activation_fn=tf.nn.relu):\n",
    "    y_pred,loss = x_pretty.conv2d(kernel=5,depth=10,name='layer1').max_pool(kernel=2,stride=2).\\\n",
    "            conv2d(kernel=5,depth=24,name='layer2').max_pool(kernel=2,stride=2).\\\n",
    "            flatten().fully_connected(size=256,name='layerfc').\\\n",
    "            flatten().fully_connected(size=64,name='layerfc').\\\n",
    "            softmax_classifier(num_classes=numClasses, labels=y_true)\n",
    "    \n",
    "            \n",
    "## accuracy\n",
    "correct = tf.equal(tf.argmax(y_pred,dimension=1),tf.argmax(y_true,dimension=1))\n",
    "accuracy = tf.reduce_mean(tf.cast(correct,tf.float32))\n",
    "\n",
    "##Optimization\n",
    "optimizer = tf.train.GradientDescentOptimizer(learning_rate=0.1).minimize(loss)"
   ]
  },
  {
   "cell_type": "code",
   "execution_count": 13,
   "metadata": {
    "collapsed": true
   },
   "outputs": [],
   "source": [
    "## Saver function to save best stopping. We are exploring early stopping here\n",
    "saver = tf.train.Saver()\n",
    "saveDir = 'savedState/'\n",
    "if not os.path.exists(saveDir):\n",
    "    os.makedirs(saveDir)\n",
    "savePath = os.path.join(saveDir, 'best_validation')    \n"
   ]
  },
  {
   "cell_type": "code",
   "execution_count": 14,
   "metadata": {
    "collapsed": true
   },
   "outputs": [],
   "source": [
    "##Lets write a function to get the weights from this pretty tensor\n",
    "\n",
    "# Retrieve an existing variable named 'weights' in the scope\n",
    "# with the given layer_name.\n",
    "def getWeights(layerName):\n",
    "    with tf.variable_scope(layerName,reuse=True):\n",
    "        variable = tf.get_variable('weights')\n",
    "        \n",
    "    return variable"
   ]
  },
  {
   "cell_type": "code",
   "execution_count": 15,
   "metadata": {
    "collapsed": false
   },
   "outputs": [],
   "source": [
    "weights1 = getWeights('layer1')\n",
    "weights2 = getWeights('layer2')"
   ]
  },
  {
   "cell_type": "code",
   "execution_count": 16,
   "metadata": {
    "collapsed": true
   },
   "outputs": [],
   "source": [
    "## lets start running the graph\n",
    "session = tf.Session()\n",
    "session.run(tf.global_variables_initializer())\n",
    "\n",
    "def runOptimization(numIter):\n",
    "    ## Initialize variables for accuracies.For early stopping we should stop at point\n",
    "    ## where the testing accuracies don't improve.\n",
    "    bestAccuracy = 0.0\n",
    "    lastImprIter = 0\n",
    "    maxIterWithOutImpr = 2\n",
    "    curIteration = 0\n",
    "    for i in range(0,numIter):\n",
    "        curIteration = curIteration+1\n",
    "        batchSize = 100\n",
    "        startTime = time.time()\n",
    "        numIterations = int(len(data.train.labels)/batchSize)\n",
    "        \n",
    "        for j in range(0,numIterations):\n",
    "            x_batch = images[(i*batchSize):(i+1)*batchSize,:]\n",
    "            y_batch = labels[(i*batchSize):(i+1)*batchSize]\n",
    "            \n",
    "            feed = {x:x_batch,y_true:y_batch}\n",
    "            session.run(optimizer,feed_dict=feed)\n",
    "            \n",
    "        labelsTrain = session.run(y_pred,feed_dict={x:data.train.images,y_true:data.train.labels})\n",
    "        ##labelsTest = session.run(y_pred,feed_dict={x:data.test.images,y_true:data.test.labels})\n",
    "        w1 = session.run(weights1,feed_dict={x:images,y_true:data.train.labels})\n",
    "        w2 = session.run(weights2,feed_dict={x:data.train.images,y_true:data.train.labels})\n",
    "        \n",
    "        accuracyTrain = session.run(accuracy,feed_dict={x:data.train.images,y_true:data.train.labels})\n",
    "        ##accuracyTest = session.run(accuracy,feed_dict={x:data.test.images,y_true:data.test.labels})\n",
    "        \n",
    "        #if accuracy improves at least 0.1%\n",
    "        if((accuracyTrain-bestAccuracy)>=0.001):\n",
    "            bestAccuracy = accuracyTrain\n",
    "            lastImprIter = curIteration\n",
    "            ##Save the state\n",
    "            saver.save(sess=session,save_path=savePath)\n",
    "            isImproved = '*'\n",
    "        else:\n",
    "            isImproved = ''\n",
    "        \n",
    "        print('Iteration ',str(i),':-  ','Training accuracy : ',accuracyTrain*100,str(isImproved))\n",
    "        print('Time Taken : ',str(time.time()-startTime),'seconds')\n",
    "        \n",
    "        if(curIteration-lastImprIter>maxIterWithOutImpr):\n",
    "            print('No improvements in testing accuracy for a while. Performing \\'Early Stopping\\'')\n",
    "            break\n",
    "            \n",
    "    return labelsTrain,w1,w2"
   ]
  },
  {
   "cell_type": "code",
   "execution_count": null,
   "metadata": {
    "collapsed": true
   },
   "outputs": [],
   "source": [
    "labelsTrain,w1,w2 = runOptimization(2)"
   ]
  }
 ],
 "metadata": {
  "anaconda-cloud": {},
  "kernelspec": {
   "display_name": "Python [default]",
   "language": "python",
   "name": "python3"
  },
  "language_info": {
   "codemirror_mode": {
    "name": "ipython",
    "version": 3
   },
   "file_extension": ".py",
   "mimetype": "text/x-python",
   "name": "python",
   "nbconvert_exporter": "python",
   "pygments_lexer": "ipython3",
   "version": "3.5.2"
  }
 },
 "nbformat": 4,
 "nbformat_minor": 1
}
