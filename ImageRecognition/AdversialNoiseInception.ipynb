{
 "cells": [
  {
   "cell_type": "code",
   "execution_count": 3,
   "metadata": {
    "collapsed": false
   },
   "outputs": [],
   "source": [
    "##--------------------------------------------------------------------------------\n",
    "## Summary : Use Adversial noise to fool the Inception model\n",
    "## Author  : Venkata Srinivas Vemprala\n",
    "## SourceCode : https://github.com/vesrinivas/DeepLearning\n",
    "##--------------------------------------------------------------------------------\n",
    "\n",
    "%matplotlib inline\n",
    "import tensorflow as tf\n",
    "import numpy as np\n",
    "import matplotlib.pyplot as plt\n",
    "import InceptionModule\n"
   ]
  },
  {
   "cell_type": "code",
   "execution_count": 4,
   "metadata": {
    "collapsed": true
   },
   "outputs": [],
   "source": [
    "## We have written a helper function for reading the Inception model\n",
    "## We will use that in this tutorial\n",
    "\n",
    "model = InceptionModule.InceptionModule()"
   ]
  },
  {
   "cell_type": "code",
   "execution_count": 5,
   "metadata": {
    "collapsed": true
   },
   "outputs": [],
   "source": [
    "## lets get various layers of the model. This is required to compute the gradients\n",
    "\n",
    "##Layer at which resized image is given as input. Tensorflow performs image resizing to 299x299\n",
    "##We are getting this layer because we don't want resizing to effect the noise \n",
    "resized_image = model.resized_image\n",
    "\n",
    "##layer that gets predicted output\n",
    "y_pred = model.y_pred\n",
    "\n",
    "##Logits layer which is layer before y_pred.\n",
    "y_logits = model.y_logits\n"
   ]
  },
  {
   "cell_type": "code",
   "execution_count": 7,
   "metadata": {
    "collapsed": false
   },
   "outputs": [],
   "source": [
    "## Lets modify the inception model to learn adversial noise\n",
    "## we will be using the cross entropy loss and gradient descent to learn\n",
    "\n",
    "with model.graph.as_default():\n",
    "    \n",
    "    ##Lets create a placeholder for the target class\n",
    "    targetClass = tf.placeholder(dtype=tf.int32)\n",
    "    \n",
    "    ##Lets define the loss function\n",
    "    loss = tf.nn.sparse_softmax_cross_entropy_with_logits(logits=y_logits,labels=[targetClass])\n",
    "    \n",
    "    ##get the gradients with respect to loss\n",
    "    gradients = tf.gradients(loss,resized_image)"
   ]
  },
  {
   "cell_type": "code",
   "execution_count": 8,
   "metadata": {
    "collapsed": true
   },
   "outputs": [],
   "source": [
    "## lets start the session\n",
    "session = tf.Session(graph=model.graph)"
   ]
  },
  {
   "cell_type": "code",
   "execution_count": null,
   "metadata": {
    "collapsed": true
   },
   "outputs": [],
   "source": [
    "## lets define a function to learn the noise\n",
    "def gen_adv_noise(image_path, cls_target, noise_limit=3.0,required_score=0.99, max_iterations=100):\n",
    "    "
   ]
  }
 ],
 "metadata": {
  "anaconda-cloud": {},
  "kernelspec": {
   "display_name": "Python [default]",
   "language": "python",
   "name": "python3"
  },
  "language_info": {
   "codemirror_mode": {
    "name": "ipython",
    "version": 3
   },
   "file_extension": ".py",
   "mimetype": "text/x-python",
   "name": "python",
   "nbconvert_exporter": "python",
   "pygments_lexer": "ipython3",
   "version": "3.5.2"
  }
 },
 "nbformat": 4,
 "nbformat_minor": 1
}
