{
 "cells": [
  {
   "cell_type": "code",
   "execution_count": 1,
   "metadata": {
    "collapsed": true
   },
   "outputs": [],
   "source": [
    "##------------------------------------------------------------------------\n",
    "## Summary : classify hand written digits using simple 2-layer CNN\n",
    "## Author  : Venkata Srinivas Vemprala\n",
    "## SourceCode : https://github.com/Hvass-Labs/TensorFlow-Tutorials\n",
    "##------------------------------------------------------------------------\n",
    "\n",
    "%matplotlib inline\n",
    "import tensorflow as tf\n",
    "import numpy as np\n",
    "import matplotlib.pyplot as plt\n",
    "from sklearn.metrics import confusion_matrix"
   ]
  },
  {
   "cell_type": "code",
   "execution_count": 2,
   "metadata": {
    "collapsed": false
   },
   "outputs": [
    {
     "name": "stdout",
     "output_type": "stream",
     "text": [
      "Extracting data/MNIST/train-images-idx3-ubyte.gz\n",
      "Extracting data/MNIST/train-labels-idx1-ubyte.gz\n",
      "Extracting data/MNIST/t10k-images-idx3-ubyte.gz\n",
      "Extracting data/MNIST/t10k-labels-idx1-ubyte.gz\n"
     ]
    }
   ],
   "source": [
    "## Importing the handwritten data from tensorflow\n",
    "from tensorflow.examples.tutorials.mnist import input_data\n",
    "data = input_data.read_data_sets('data/MNIST/',one_hot=True)"
   ]
  },
  {
   "cell_type": "code",
   "execution_count": 3,
   "metadata": {
    "collapsed": true
   },
   "outputs": [],
   "source": [
    "##Declaring constants\n",
    "img_size = 28\n",
    "img_shape = (img_size,img_size)\n",
    "img_size_flat = img_size * img_size\n",
    "num_classes = 10\n",
    "batch_size = 100\n",
    "\n",
    "trueLabelsTrain = np.array([label.argmax() for label in data.train.labels])\n",
    "trueLabelsTest = np.array([label.argmax() for label in data.test.labels])\n",
    "trueLabelsValidation = np.array([label.argmax() for label in data.validation.labels])"
   ]
  },
  {
   "cell_type": "code",
   "execution_count": 4,
   "metadata": {
    "collapsed": true
   },
   "outputs": [],
   "source": [
    "##lets write a function to display the images using matplotlib\n",
    "\n",
    "def plotImages(images,trueLabels,predLabels=None):\n",
    "    assert len(truelabels) == len(images) == 9\n",
    "    \n",
    "    #create a 3x3 subplot\n",
    "    (fig,axes) = plt.subplots(3,3)\n",
    "    fig.subplots_adjust(hspace=0.3,wspace=0.3)\n",
    "    \n",
    "    for i,ax in enumerate(axes.flat):\n",
    "        #plot image\n",
    "        ax.imshow(images[i].reshape(img_shape),cmap='binary')\n",
    "        \n",
    "        if predLabels==None:\n",
    "            xlabel = \"True : \"+str(trueLabels[i])\n",
    "        else:\n",
    "            xlabel = \"True : \"+str(trueLabels[i])+\" Pred : \"+str(predLabels[i])\n",
    "        \n",
    "        #set label and remove ticks\n",
    "        ax.set_xlabel(xlabel)\n",
    "        ax.set_xticks([])\n",
    "        ax.set_yticks([])"
   ]
  },
  {
   "cell_type": "code",
   "execution_count": 5,
   "metadata": {
    "collapsed": true
   },
   "outputs": [],
   "source": [
    "##lets write a function to print weights\n",
    "def printConfMatrix(trueLabels,predLabels):\n",
    "    cm = confusion_matrix(y_true=trueLabels,y_pred=predLabels)\n",
    "    print(cm)\n",
    "\n",
    "##Function to print wrong examples    \n",
    "def printExampleErrors(images,trueLabels,predLabels):\n",
    "    correct = np.equal(trueLabels,predLabels)\n",
    "    indexes = np.where(correct==False)\n",
    "    \n",
    "    incorrectImages = images[indexes]\n",
    "    incorrectTrueLabels = trueLabels[indexes]\n",
    "    incorrectPredLabels = predLabels[indexes]\n",
    "    plotImages(incorrectImages,incorrectTrueLabels,incorrectPredLabels)"
   ]
  },
  {
   "cell_type": "code",
   "execution_count": null,
   "metadata": {
    "collapsed": true
   },
   "outputs": [],
   "source": [
    "##lets write a function to plot conv weights\n",
    "def plotConvWeights(weights):\n",
    "    ##find max and min of weights\n",
    "    w_max = np.max(weights)\n",
    "    w_min = np.min(weights)\n",
    "    \n",
    "    "
   ]
  }
 ],
 "metadata": {
  "anaconda-cloud": {},
  "kernelspec": {
   "display_name": "Python [default]",
   "language": "python",
   "name": "python3"
  },
  "language_info": {
   "codemirror_mode": {
    "name": "ipython",
    "version": 3
   },
   "file_extension": ".py",
   "mimetype": "text/x-python",
   "name": "python",
   "nbconvert_exporter": "python",
   "pygments_lexer": "ipython3",
   "version": "3.5.2"
  }
 },
 "nbformat": 4,
 "nbformat_minor": 1
}
